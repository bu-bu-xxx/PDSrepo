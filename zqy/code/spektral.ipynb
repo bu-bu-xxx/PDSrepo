{
 "cells": [
  {
   "cell_type": "markdown",
   "metadata": {},
   "source": [
    "# import data"
   ]
  },
  {
   "cell_type": "code",
   "execution_count": 1,
   "metadata": {},
   "outputs": [
    {
     "data": {
      "text/html": [
       "<div>\n",
       "<style scoped>\n",
       "    .dataframe tbody tr th:only-of-type {\n",
       "        vertical-align: middle;\n",
       "    }\n",
       "\n",
       "    .dataframe tbody tr th {\n",
       "        vertical-align: top;\n",
       "    }\n",
       "\n",
       "    .dataframe thead th {\n",
       "        text-align: right;\n",
       "    }\n",
       "</style>\n",
       "<table border=\"1\" class=\"dataframe\">\n",
       "  <thead>\n",
       "    <tr style=\"text-align: right;\">\n",
       "      <th></th>\n",
       "      <th>Group</th>\n",
       "      <th>Age</th>\n",
       "      <th>Sex</th>\n",
       "      <th>Volume_mm30</th>\n",
       "      <th>normMean0</th>\n",
       "      <th>normStdDev0</th>\n",
       "      <th>normMin0</th>\n",
       "      <th>normMax0</th>\n",
       "      <th>Volume_mm31</th>\n",
       "      <th>normMean1</th>\n",
       "      <th>...</th>\n",
       "      <th>Volume_mm398</th>\n",
       "      <th>normMean98</th>\n",
       "      <th>normStdDev98</th>\n",
       "      <th>normMin98</th>\n",
       "      <th>normMax98</th>\n",
       "      <th>Volume_mm399</th>\n",
       "      <th>normMean99</th>\n",
       "      <th>normStdDev99</th>\n",
       "      <th>normMin99</th>\n",
       "      <th>normMax99</th>\n",
       "    </tr>\n",
       "  </thead>\n",
       "  <tbody>\n",
       "    <tr>\n",
       "      <th>0</th>\n",
       "      <td>AD</td>\n",
       "      <td>78</td>\n",
       "      <td>M</td>\n",
       "      <td>239618.359</td>\n",
       "      <td>104.5263</td>\n",
       "      <td>8.7939</td>\n",
       "      <td>23.0</td>\n",
       "      <td>133.0</td>\n",
       "      <td>19019.868</td>\n",
       "      <td>21.8726</td>\n",
       "      <td>...</td>\n",
       "      <td>617.654</td>\n",
       "      <td>78.3675</td>\n",
       "      <td>12.5697</td>\n",
       "      <td>49.0</td>\n",
       "      <td>101.0</td>\n",
       "      <td>4935.454</td>\n",
       "      <td>70.7624</td>\n",
       "      <td>9.5176</td>\n",
       "      <td>42.0</td>\n",
       "      <td>95.0</td>\n",
       "    </tr>\n",
       "    <tr>\n",
       "      <th>1</th>\n",
       "      <td>AD</td>\n",
       "      <td>66</td>\n",
       "      <td>M</td>\n",
       "      <td>244462.620</td>\n",
       "      <td>104.4633</td>\n",
       "      <td>9.0946</td>\n",
       "      <td>19.0</td>\n",
       "      <td>135.0</td>\n",
       "      <td>52376.076</td>\n",
       "      <td>18.9785</td>\n",
       "      <td>...</td>\n",
       "      <td>866.656</td>\n",
       "      <td>81.6065</td>\n",
       "      <td>11.9081</td>\n",
       "      <td>49.0</td>\n",
       "      <td>106.0</td>\n",
       "      <td>5642.185</td>\n",
       "      <td>71.9476</td>\n",
       "      <td>9.2368</td>\n",
       "      <td>45.0</td>\n",
       "      <td>97.0</td>\n",
       "    </tr>\n",
       "    <tr>\n",
       "      <th>2</th>\n",
       "      <td>AD</td>\n",
       "      <td>77</td>\n",
       "      <td>M</td>\n",
       "      <td>236413.264</td>\n",
       "      <td>104.6093</td>\n",
       "      <td>8.0282</td>\n",
       "      <td>28.0</td>\n",
       "      <td>133.0</td>\n",
       "      <td>16591.926</td>\n",
       "      <td>27.7462</td>\n",
       "      <td>...</td>\n",
       "      <td>928.867</td>\n",
       "      <td>84.8252</td>\n",
       "      <td>10.9218</td>\n",
       "      <td>55.0</td>\n",
       "      <td>101.0</td>\n",
       "      <td>5959.229</td>\n",
       "      <td>76.6012</td>\n",
       "      <td>8.9234</td>\n",
       "      <td>50.0</td>\n",
       "      <td>99.0</td>\n",
       "    </tr>\n",
       "    <tr>\n",
       "      <th>3</th>\n",
       "      <td>AD</td>\n",
       "      <td>73</td>\n",
       "      <td>M</td>\n",
       "      <td>227601.449</td>\n",
       "      <td>104.3662</td>\n",
       "      <td>8.7423</td>\n",
       "      <td>29.0</td>\n",
       "      <td>132.0</td>\n",
       "      <td>19109.596</td>\n",
       "      <td>20.5128</td>\n",
       "      <td>...</td>\n",
       "      <td>576.647</td>\n",
       "      <td>80.3540</td>\n",
       "      <td>12.4069</td>\n",
       "      <td>51.0</td>\n",
       "      <td>105.0</td>\n",
       "      <td>5598.818</td>\n",
       "      <td>71.2126</td>\n",
       "      <td>8.7279</td>\n",
       "      <td>43.0</td>\n",
       "      <td>97.0</td>\n",
       "    </tr>\n",
       "    <tr>\n",
       "      <th>4</th>\n",
       "      <td>AD</td>\n",
       "      <td>62</td>\n",
       "      <td>M</td>\n",
       "      <td>220511.415</td>\n",
       "      <td>104.5355</td>\n",
       "      <td>7.3271</td>\n",
       "      <td>40.0</td>\n",
       "      <td>129.0</td>\n",
       "      <td>4690.350</td>\n",
       "      <td>36.5242</td>\n",
       "      <td>...</td>\n",
       "      <td>724.538</td>\n",
       "      <td>86.7110</td>\n",
       "      <td>10.1832</td>\n",
       "      <td>61.0</td>\n",
       "      <td>103.0</td>\n",
       "      <td>5327.887</td>\n",
       "      <td>76.5429</td>\n",
       "      <td>7.5031</td>\n",
       "      <td>51.0</td>\n",
       "      <td>96.0</td>\n",
       "    </tr>\n",
       "  </tbody>\n",
       "</table>\n",
       "<p>5 rows × 503 columns</p>\n",
       "</div>"
      ],
      "text/plain": [
       "  Group  Age Sex  Volume_mm30  normMean0  normStdDev0  normMin0  normMax0  \\\n",
       "0    AD   78   M   239618.359   104.5263       8.7939      23.0     133.0   \n",
       "1    AD   66   M   244462.620   104.4633       9.0946      19.0     135.0   \n",
       "2    AD   77   M   236413.264   104.6093       8.0282      28.0     133.0   \n",
       "3    AD   73   M   227601.449   104.3662       8.7423      29.0     132.0   \n",
       "4    AD   62   M   220511.415   104.5355       7.3271      40.0     129.0   \n",
       "\n",
       "   Volume_mm31  normMean1  ...  Volume_mm398  normMean98  normStdDev98  \\\n",
       "0    19019.868    21.8726  ...       617.654     78.3675       12.5697   \n",
       "1    52376.076    18.9785  ...       866.656     81.6065       11.9081   \n",
       "2    16591.926    27.7462  ...       928.867     84.8252       10.9218   \n",
       "3    19109.596    20.5128  ...       576.647     80.3540       12.4069   \n",
       "4     4690.350    36.5242  ...       724.538     86.7110       10.1832   \n",
       "\n",
       "   normMin98  normMax98  Volume_mm399  normMean99  normStdDev99  normMin99  \\\n",
       "0       49.0      101.0      4935.454     70.7624        9.5176       42.0   \n",
       "1       49.0      106.0      5642.185     71.9476        9.2368       45.0   \n",
       "2       55.0      101.0      5959.229     76.6012        8.9234       50.0   \n",
       "3       51.0      105.0      5598.818     71.2126        8.7279       43.0   \n",
       "4       61.0      103.0      5327.887     76.5429        7.5031       51.0   \n",
       "\n",
       "   normMax99  \n",
       "0       95.0  \n",
       "1       97.0  \n",
       "2       99.0  \n",
       "3       97.0  \n",
       "4       96.0  \n",
       "\n",
       "[5 rows x 503 columns]"
      ]
     },
     "execution_count": 1,
     "metadata": {},
     "output_type": "execute_result"
    }
   ],
   "source": [
    "import pandas as pd\n",
    "import numpy as np\n",
    "\n",
    "aseg_data = pd.read_csv('../dataset/final_data/aseg+DKT.stats980.csv')\n",
    "aseg_data.head()"
   ]
  },
  {
   "cell_type": "code",
   "execution_count": 2,
   "metadata": {},
   "outputs": [],
   "source": [
    "aseg_X = aseg_data.iloc[:, 3:]\n",
    "aseg_y = aseg_data.iloc[:, 0]\n",
    "aseg_X = (aseg_X - aseg_X.mean()) / aseg_X.std()\n",
    "aseg_X = aseg_X.fillna(0)\n",
    "X, y = aseg_X.to_numpy(), aseg_y.to_numpy()"
   ]
  },
  {
   "cell_type": "code",
   "execution_count": 3,
   "metadata": {},
   "outputs": [],
   "source": [
    "from sklearn.preprocessing import OneHotEncoder\n",
    "\n",
    "target2idx = {'AD': 0, 'MCI': 1, 'CN': 2}\n",
    "idx2target = {0: 'AD', 1: 'MCI', 2: 'CN'}\n",
    "y_idx = np.array([target2idx[t] for t in y])\n",
    "y_onehot = OneHotEncoder().fit_transform(y_idx.reshape(-1, 1)).toarray().astype(int)"
   ]
  },
  {
   "cell_type": "code",
   "execution_count": 4,
   "metadata": {},
   "outputs": [],
   "source": [
    "from sklearn.model_selection import train_test_split\n",
    "from sklearn.preprocessing import OneHotEncoder\n",
    "\n",
    "(\n",
    "    X_train,\n",
    "    X_test,\n",
    "    y_train,\n",
    "    y_test,\n",
    "    y_train_onehot,\n",
    "    y_test_onehot,\n",
    "    y_train_idx,\n",
    "    y_test_idx,\n",
    ") = train_test_split(X, y, y_onehot, y_idx, test_size=0.2, random_state=42)"
   ]
  },
  {
   "cell_type": "code",
   "execution_count": 5,
   "metadata": {},
   "outputs": [
    {
     "data": {
      "text/plain": [
       "((784,), (196,))"
      ]
     },
     "execution_count": 5,
     "metadata": {},
     "output_type": "execute_result"
    }
   ],
   "source": [
    "y_train.shape,  y_test.shape"
   ]
  },
  {
   "cell_type": "code",
   "execution_count": 6,
   "metadata": {},
   "outputs": [],
   "source": [
    "X_test_gnn = X_test.reshape(X_test.shape[0], -1, 5)\n",
    "X_train_gnn = X_train.reshape(X_train.shape[0], -1, 5)\n"
   ]
  },
  {
   "cell_type": "markdown",
   "metadata": {},
   "source": [
    "# spektral"
   ]
  },
  {
   "cell_type": "markdown",
   "metadata": {},
   "source": [
    "## edge"
   ]
  },
  {
   "cell_type": "code",
   "execution_count": 7,
   "metadata": {},
   "outputs": [
    {
     "name": "stderr",
     "output_type": "stream",
     "text": [
      "/home/zqy/venv/lib/python3.10/site-packages/numpy/lib/function_base.py:2853: RuntimeWarning: invalid value encountered in divide\n",
      "  c /= stddev[:, None]\n",
      "/home/zqy/venv/lib/python3.10/site-packages/numpy/lib/function_base.py:2854: RuntimeWarning: invalid value encountered in divide\n",
      "  c /= stddev[None, :]\n"
     ]
    }
   ],
   "source": [
    "def get_adjacency_matrix(X):\n",
    "    # Compute the correlation matrix\n",
    "    for i in range(X.shape[0]):\n",
    "        if i == 0:\n",
    "            corr_matrix = np.corrcoef(X[i])\n",
    "        else:\n",
    "            corr_matrix = np.dstack((corr_matrix, np.corrcoef(X[i])))\n",
    "    # corr_matrix shape: [num_samples, num_nodes, num_nodes]\n",
    "    return corr_matrix\n",
    "\n",
    "# adjacency_matrix\n",
    "adjacency_matrix = (get_adjacency_matrix(X_train_gnn).mean(axis=2) > 0.5).astype(int)\n",
    "adjacency_matrix[adjacency_matrix == 0] = 1e-10\n",
    "A_train_gnn = np.tile(adjacency_matrix, (X_train_gnn.shape[0], 1, 1))\n",
    "A_test_gnn = np.tile(adjacency_matrix, (X_test_gnn.shape[0], 1, 1))"
   ]
  },
  {
   "cell_type": "markdown",
   "metadata": {},
   "source": [
    "## Layer"
   ]
  },
  {
   "cell_type": "code",
   "execution_count": 8,
   "metadata": {},
   "outputs": [
    {
     "name": "stderr",
     "output_type": "stream",
     "text": [
      "2024-11-10 16:45:26.950963: I tensorflow/core/util/port.cc:153] oneDNN custom operations are on. You may see slightly different numerical results due to floating-point round-off errors from different computation orders. To turn them off, set the environment variable `TF_ENABLE_ONEDNN_OPTS=0`.\n",
      "2024-11-10 16:45:27.059964: E external/local_xla/xla/stream_executor/cuda/cuda_fft.cc:485] Unable to register cuFFT factory: Attempting to register factory for plugin cuFFT when one has already been registered\n",
      "2024-11-10 16:45:27.105243: E external/local_xla/xla/stream_executor/cuda/cuda_dnn.cc:8454] Unable to register cuDNN factory: Attempting to register factory for plugin cuDNN when one has already been registered\n",
      "2024-11-10 16:45:27.118213: E external/local_xla/xla/stream_executor/cuda/cuda_blas.cc:1452] Unable to register cuBLAS factory: Attempting to register factory for plugin cuBLAS when one has already been registered\n",
      "2024-11-10 16:45:27.198489: I tensorflow/core/platform/cpu_feature_guard.cc:210] This TensorFlow binary is optimized to use available CPU instructions in performance-critical operations.\n",
      "To enable the following instructions: AVX2 AVX_VNNI FMA, in other operations, rebuild TensorFlow with the appropriate compiler flags.\n",
      "2024-11-10 16:45:27.886658: W tensorflow/compiler/tf2tensorrt/utils/py_utils.cc:38] TF-TRT Warning: Could not find TensorRT\n"
     ]
    }
   ],
   "source": [
    "from tensorflow.keras import layers\n",
    "\n",
    "class AddNorm(layers.Layer):\n",
    "    def __init__(self, type):\n",
    "        super(AddNorm, self).__init__()\n",
    "        if type == 'layer':\n",
    "            # gat use layer\n",
    "            self.norm = layers.LayerNormalization()\n",
    "        elif type == 'batch':\n",
    "            # gcn use batch\n",
    "            self.norm = layers.BatchNormalization()\n",
    "    def call(self, inputs, sublayer):\n",
    "        # Apply residual connection followed by layer normalization\n",
    "        return self.norm(inputs + sublayer)"
   ]
  },
  {
   "cell_type": "code",
   "execution_count": 9,
   "metadata": {},
   "outputs": [],
   "source": [
    "import tensorflow as tf\n",
    "class PredictionLayer(layers.Layer):\n",
    "    def __init__(self, num_classes):\n",
    "        super(PredictionLayer, self).__init__()\n",
    "        self.ffn = layers.Dense(1, activation='relu')\n",
    "        self.dense = layers.Dense(num_classes, activation='softmax')\n",
    "\n",
    "    def call(self, inputs):\n",
    "        # x shape: [batch_size, num_nodes, hidden_units]\n",
    "        x = self.ffn(inputs)\n",
    "        x = tf.reduce_mean(x, axis=2)\n",
    "        x = self.dense(x)\n",
    "        return x"
   ]
  },
  {
   "cell_type": "markdown",
   "metadata": {},
   "source": [
    "## GCN"
   ]
  },
  {
   "cell_type": "code",
   "execution_count": 44,
   "metadata": {},
   "outputs": [],
   "source": [
    "from spektral.layers import gcn_conv\n",
    "from tensorflow.keras.models import Model\n",
    "from tensorflow.keras.layers import Input, Dropout, Dense\n",
    "from tensorflow.keras.optimizers import Adam\n",
    "from tensorflow.keras.losses import CategoricalCrossentropy\n",
    "from tensorflow.keras.metrics import CategoricalAccuracy\n",
    "\n",
    "import tensorflow as tf\n",
    "from spektral.layers.convolutional import gcn_conv\n",
    "\n",
    "\n",
    "class GCN(tf.keras.Model):\n",
    "    \"\"\"\n",
    "    This model, with its default hyperparameters, implements the architecture\n",
    "    from the paper:\n",
    "\n",
    "    > [Semi-Supervised Classification with Graph Convolutional Networks](https://arxiv.org/abs/1609.02907)<br>\n",
    "    > Thomas N. Kipf and Max Welling\n",
    "\n",
    "    **Mode**: single, disjoint, mixed, batch.\n",
    "\n",
    "    **Input**\n",
    "\n",
    "    - Node features of shape `([batch], n_nodes, n_node_features)`\n",
    "    - Weighted adjacency matrix of shape `([batch], n_nodes, n_nodes)`\n",
    "\n",
    "    **Output**\n",
    "\n",
    "    - Softmax predictions with shape `([batch], n_nodes, n_labels)`.\n",
    "\n",
    "    **Arguments**\n",
    "\n",
    "    - `n_labels`: number of channels in output;\n",
    "    - `channels`: number of channels in first GCNConv layer;\n",
    "    - `activation`: activation of the first GCNConv layer;\n",
    "    - `output_activation`: activation of the second GCNConv layer;\n",
    "    - `use_bias`: whether to add a learnable bias to the two GCNConv layers;\n",
    "    - `dropout_rate`: `rate` used in `Dropout` layers;\n",
    "    - `l2_reg`: l2 regularization strength;\n",
    "    - `**kwargs`: passed to `Model.__init__`.\n",
    "    \"\"\"\n",
    "\n",
    "    def __init__(\n",
    "        self,\n",
    "        n_labels,\n",
    "        channels=16,\n",
    "        activation=\"relu\",\n",
    "        output_activation=\"softmax\",\n",
    "        use_bias=False,\n",
    "        dropout_rate=0.5,\n",
    "        l2_reg=2.5e-4,\n",
    "        blocks_num = 3,\n",
    "        **kwargs\n",
    "    ):\n",
    "        super().__init__(**kwargs)\n",
    "        self.n_labels = n_labels\n",
    "        self.channels = channels\n",
    "        self.activation = activation\n",
    "        self.output_activation = output_activation\n",
    "        self.use_bias = use_bias\n",
    "        self.dropout_rate = dropout_rate\n",
    "        self.l2_reg = l2_reg\n",
    "        self.blocks_num = blocks_num\n",
    "        reg = tf.keras.regularizers.l2(l2_reg)\n",
    "        \n",
    "        # layer\n",
    "        for i in range(self.blocks_num):\n",
    "            setattr(self, f\"drop{i}\", Dropout(dropout_rate))\n",
    "            setattr(self, f\"gcn{i}\", gcn_conv.GCNConv(channels, activation=activation, use_bias=use_bias, kernel_regularizer=reg))\n",
    "            setattr(self, f\"addnorm{i}\", AddNorm('batch'))\n",
    "        self.prediction = PredictionLayer(n_labels)\n",
    "        # self.drop0 = Dropout(dropout_rate)\n",
    "        # self.gcn0 = gcn_conv.GCNConv(channels, activation=activation, use_bias=use_bias, kernel_regularizer=reg)\n",
    "\n",
    "    def get_config(self):\n",
    "        return dict(\n",
    "            n_labels=self.n_labels,\n",
    "            channels=self.channels,\n",
    "            activation=self.activation,\n",
    "            output_activation=self.output_activation,\n",
    "            use_bias=self.use_bias,\n",
    "            dropout_rate=self.dropout_rate,\n",
    "            l2_reg=self.l2_reg,\n",
    "        )\n",
    "\n",
    "    def call(self, inputs):\n",
    "        x, a = inputs\n",
    "        for i in range(self.blocks_num):\n",
    "            y = getattr(self, f\"drop{i}\")(x)\n",
    "            y = getattr(self, f\"gcn{i}\")([y, a])\n",
    "            if i == 0:\n",
    "                x = y\n",
    "            else:\n",
    "                x = getattr(self, f\"addnorm{i}\")(x, y)\n",
    "                # x = y\n",
    "        \n",
    "\n",
    "        # x = self.gcn0([x, a], mask=None)\n",
    "        # x = self.drop0(x)\n",
    "        x = self.prediction(x)\n",
    "        return x\n",
    "\n",
    "        "
   ]
  },
  {
   "cell_type": "code",
   "execution_count": 12,
   "metadata": {},
   "outputs": [],
   "source": [
    "from spektral.layers import gcn_conv\n",
    "from tensorflow.keras.models import Model\n",
    "from tensorflow.keras.layers import Input, Dropout, Dense\n",
    "from tensorflow.keras.optimizers import Adam\n",
    "from tensorflow.keras.losses import CategoricalCrossentropy\n",
    "from tensorflow.keras.metrics import CategoricalAccuracy\n",
    "\n",
    "import tensorflow as tf\n",
    "import spektral\n",
    "from spektral.layers.convolutional import gcn_conv\n",
    "\n",
    "\n",
    "class GCN2(tf.keras.Model):\n",
    "    def __init__(\n",
    "        self,\n",
    "        n_labels,\n",
    "        channels=16,\n",
    "        activation=\"relu\",\n",
    "        output_activation=\"softmax\",\n",
    "        use_bias=False,\n",
    "        dropout_rate=0.5,\n",
    "        l2_reg=2.5e-4,\n",
    "        blocks_num = 3,\n",
    "        ratio = 0.8,\n",
    "        **kwargs\n",
    "    ):\n",
    "        super().__init__(**kwargs)\n",
    "        self.n_labels = n_labels\n",
    "        self.channels = channels\n",
    "        self.activation = activation\n",
    "        self.output_activation = output_activation\n",
    "        self.use_bias = use_bias\n",
    "        self.dropout_rate = dropout_rate\n",
    "        self.l2_reg = l2_reg\n",
    "        self.blocks_num = blocks_num\n",
    "        reg = tf.keras.regularizers.l2(l2_reg)\n",
    "        self.ratio = ratio\n",
    "        \n",
    "        # layer\n",
    "        for i in range(self.blocks_num):\n",
    "            setattr(self, f\"drop{i}\", Dropout(dropout_rate))\n",
    "            setattr(self, f\"gcn{i}\", gcn_conv.GCNConv(channels, activation=activation, use_bias=use_bias, kernel_regularizer=reg))\n",
    "            setattr(self, f\"topkpool{i}\", spektral.layers.TopKPool(ratio, return_selection=False, return_score=False, sigmoid_gating=False, kernel_initializer='glorot_uniform', kernel_regularizer=None, kernel_constraint=None))\n",
    "            # setattr(self, f\"addnorm{i}\", AddNorm('batch'))\n",
    "        self.prediction = PredictionLayer(n_labels)\n",
    "        # self.drop0 = Dropout(dropout_rate)\n",
    "        # self.gcn0 = gcn_conv.GCNConv(channels, activation=activation, use_bias=use_bias, kernel_regularizer=reg)\n",
    "\n",
    "\n",
    "    def call(self, inputs):\n",
    "        x, a = inputs\n",
    "        for i in range(self.blocks_num):\n",
    "            y = getattr(self, f\"drop{i}\")(x)\n",
    "            y = getattr(self, f\"gcn{i}\")([y, a])\n",
    "            t = getattr(self, f\"topkpool{i}\")([y, a])\n",
    "            if i == 0:\n",
    "                x = y\n",
    "            else:\n",
    "                # x = getattr(self, f\"addnorm{i}\")(x, y)\n",
    "                x = y\n",
    "        \n",
    "\n",
    "        # x = self.gcn0([x, a], mask=None)\n",
    "        # x = self.drop0(x)\n",
    "        x = self.prediction(x)\n",
    "        return x\n",
    "\n",
    "        "
   ]
  },
  {
   "cell_type": "markdown",
   "metadata": {},
   "source": [
    "## train"
   ]
  },
  {
   "cell_type": "code",
   "execution_count": 13,
   "metadata": {},
   "outputs": [
    {
     "name": "stderr",
     "output_type": "stream",
     "text": [
      "/home/zqy/venv/lib/python3.10/site-packages/keras/src/layers/layer.py:391: UserWarning: `build()` was called on layer 'gcn2_1', however the layer does not have a `build()` method implemented and it looks like it has unbuilt state. This will cause the layer to be marked as built, despite not being actually built, which may cause failures down the line. Make sure to implement a proper `build()` method.\n",
      "  warnings.warn(\n"
     ]
    },
    {
     "data": {
      "text/html": [
       "<pre style=\"white-space:pre;overflow-x:auto;line-height:normal;font-family:Menlo,'DejaVu Sans Mono',consolas,'Courier New',monospace\"><span style=\"font-weight: bold\">Model: \"gcn2_1\"</span>\n",
       "</pre>\n"
      ],
      "text/plain": [
       "\u001b[1mModel: \"gcn2_1\"\u001b[0m\n"
      ]
     },
     "metadata": {},
     "output_type": "display_data"
    },
    {
     "data": {
      "text/html": [
       "<pre style=\"white-space:pre;overflow-x:auto;line-height:normal;font-family:Menlo,'DejaVu Sans Mono',consolas,'Courier New',monospace\">┏━━━━━━━━━━━━━━━━━━━━━━━━━━━━━━━━━┳━━━━━━━━━━━━━━━━━━━━━━━━┳━━━━━━━━━━━━━━━┓\n",
       "┃<span style=\"font-weight: bold\"> Layer (type)                    </span>┃<span style=\"font-weight: bold\"> Output Shape           </span>┃<span style=\"font-weight: bold\">       Param # </span>┃\n",
       "┡━━━━━━━━━━━━━━━━━━━━━━━━━━━━━━━━━╇━━━━━━━━━━━━━━━━━━━━━━━━╇━━━━━━━━━━━━━━━┩\n",
       "│ dropout_1 (<span style=\"color: #0087ff; text-decoration-color: #0087ff\">Dropout</span>)             │ ?                      │   <span style=\"color: #00af00; text-decoration-color: #00af00\">0</span> (unbuilt) │\n",
       "├─────────────────────────────────┼────────────────────────┼───────────────┤\n",
       "│ gcn_conv_1 (<span style=\"color: #0087ff; text-decoration-color: #0087ff\">GCNConv</span>)            │ ?                      │   <span style=\"color: #00af00; text-decoration-color: #00af00\">0</span> (unbuilt) │\n",
       "├─────────────────────────────────┼────────────────────────┼───────────────┤\n",
       "│ top_k_pool_1 (<span style=\"color: #0087ff; text-decoration-color: #0087ff\">TopKPool</span>)         │ ?                      │   <span style=\"color: #00af00; text-decoration-color: #00af00\">0</span> (unbuilt) │\n",
       "├─────────────────────────────────┼────────────────────────┼───────────────┤\n",
       "│ prediction_layer_1              │ ?                      │   <span style=\"color: #00af00; text-decoration-color: #00af00\">0</span> (unbuilt) │\n",
       "│ (<span style=\"color: #0087ff; text-decoration-color: #0087ff\">PredictionLayer</span>)               │                        │               │\n",
       "└─────────────────────────────────┴────────────────────────┴───────────────┘\n",
       "</pre>\n"
      ],
      "text/plain": [
       "┏━━━━━━━━━━━━━━━━━━━━━━━━━━━━━━━━━┳━━━━━━━━━━━━━━━━━━━━━━━━┳━━━━━━━━━━━━━━━┓\n",
       "┃\u001b[1m \u001b[0m\u001b[1mLayer (type)                   \u001b[0m\u001b[1m \u001b[0m┃\u001b[1m \u001b[0m\u001b[1mOutput Shape          \u001b[0m\u001b[1m \u001b[0m┃\u001b[1m \u001b[0m\u001b[1m      Param #\u001b[0m\u001b[1m \u001b[0m┃\n",
       "┡━━━━━━━━━━━━━━━━━━━━━━━━━━━━━━━━━╇━━━━━━━━━━━━━━━━━━━━━━━━╇━━━━━━━━━━━━━━━┩\n",
       "│ dropout_1 (\u001b[38;5;33mDropout\u001b[0m)             │ ?                      │   \u001b[38;5;34m0\u001b[0m (unbuilt) │\n",
       "├─────────────────────────────────┼────────────────────────┼───────────────┤\n",
       "│ gcn_conv_1 (\u001b[38;5;33mGCNConv\u001b[0m)            │ ?                      │   \u001b[38;5;34m0\u001b[0m (unbuilt) │\n",
       "├─────────────────────────────────┼────────────────────────┼───────────────┤\n",
       "│ top_k_pool_1 (\u001b[38;5;33mTopKPool\u001b[0m)         │ ?                      │   \u001b[38;5;34m0\u001b[0m (unbuilt) │\n",
       "├─────────────────────────────────┼────────────────────────┼───────────────┤\n",
       "│ prediction_layer_1              │ ?                      │   \u001b[38;5;34m0\u001b[0m (unbuilt) │\n",
       "│ (\u001b[38;5;33mPredictionLayer\u001b[0m)               │                        │               │\n",
       "└─────────────────────────────────┴────────────────────────┴───────────────┘\n"
      ]
     },
     "metadata": {},
     "output_type": "display_data"
    },
    {
     "data": {
      "text/html": [
       "<pre style=\"white-space:pre;overflow-x:auto;line-height:normal;font-family:Menlo,'DejaVu Sans Mono',consolas,'Courier New',monospace\"><span style=\"font-weight: bold\"> Total params: </span><span style=\"color: #00af00; text-decoration-color: #00af00\">0</span> (0.00 B)\n",
       "</pre>\n"
      ],
      "text/plain": [
       "\u001b[1m Total params: \u001b[0m\u001b[38;5;34m0\u001b[0m (0.00 B)\n"
      ]
     },
     "metadata": {},
     "output_type": "display_data"
    },
    {
     "data": {
      "text/html": [
       "<pre style=\"white-space:pre;overflow-x:auto;line-height:normal;font-family:Menlo,'DejaVu Sans Mono',consolas,'Courier New',monospace\"><span style=\"font-weight: bold\"> Trainable params: </span><span style=\"color: #00af00; text-decoration-color: #00af00\">0</span> (0.00 B)\n",
       "</pre>\n"
      ],
      "text/plain": [
       "\u001b[1m Trainable params: \u001b[0m\u001b[38;5;34m0\u001b[0m (0.00 B)\n"
      ]
     },
     "metadata": {},
     "output_type": "display_data"
    },
    {
     "data": {
      "text/html": [
       "<pre style=\"white-space:pre;overflow-x:auto;line-height:normal;font-family:Menlo,'DejaVu Sans Mono',consolas,'Courier New',monospace\"><span style=\"font-weight: bold\"> Non-trainable params: </span><span style=\"color: #00af00; text-decoration-color: #00af00\">0</span> (0.00 B)\n",
       "</pre>\n"
      ],
      "text/plain": [
       "\u001b[1m Non-trainable params: \u001b[0m\u001b[38;5;34m0\u001b[0m (0.00 B)\n"
      ]
     },
     "metadata": {},
     "output_type": "display_data"
    }
   ],
   "source": [
    "model = GCN2(n_labels=3, channels=16, blocks_num=1)\n",
    "model.compile(\n",
    "    optimizer=Adam(learning_rate=0.001),\n",
    "    loss=CategoricalCrossentropy(),\n",
    "    metrics=[CategoricalAccuracy()],\n",
    ")\n",
    "model.build(\n",
    "    input_shape=[\n",
    "        (X_train_gnn.shape[1], X_train_gnn.shape[2]),\n",
    "        (X_train_gnn.shape[1], X_train_gnn.shape[1]),\n",
    "    ]\n",
    ")\n",
    "model.summary()"
   ]
  },
  {
   "cell_type": "code",
   "execution_count": 14,
   "metadata": {},
   "outputs": [
    {
     "name": "stdout",
     "output_type": "stream",
     "text": [
      "Epoch 1/100\n"
     ]
    },
    {
     "name": "stderr",
     "output_type": "stream",
     "text": [
      "/home/zqy/venv/lib/python3.10/site-packages/spektral/layers/convolutional/conv.py:98: UserWarning: The adjacency matrix of dtype <dtype: 'int64'> is incompatible with the dtype of the node features <dtype: 'float32'> and has been automatically cast to <dtype: 'float32'>.\n",
      "  warnings.warn(\n"
     ]
    },
    {
     "ename": "ValueError",
     "evalue": "Exception encountered when calling TopKPool.call().\n\n\u001b[1mDimensions [1,1) of input[shape=[100]] = [] must match dimensions [1,2) of updates[shape=[?,1]] = [1]: Shapes must be equal rank, but are 0 and 1 for '{{node gcn2_1_1/top_k_pool_1_1/TensorScatterUpdate}} = TensorScatterUpdate[T=DT_FLOAT, Tindices=DT_INT32](gcn2_1_1/top_k_pool_1_1/sub_1, gcn2_1_1/top_k_pool_1_1/strided_slice_5, gcn2_1_1/top_k_pool_1_1/strided_slice_1)' with input shapes: [100], [100,1], [?,1].\u001b[0m\n\nArguments received by TopKPool.call():\n  • inputs=['tf.Tensor(shape=(None, 100, 16), dtype=float32)', 'tf.Tensor(shape=(None, 100, 100), dtype=int64)']\n  • kwargs=<class 'inspect._empty'>",
     "output_type": "error",
     "traceback": [
      "\u001b[0;31m---------------------------------------------------------------------------\u001b[0m",
      "\u001b[0;31mValueError\u001b[0m                                Traceback (most recent call last)",
      "Cell \u001b[0;32mIn[14], line 1\u001b[0m\n\u001b[0;32m----> 1\u001b[0m \u001b[43mmodel\u001b[49m\u001b[38;5;241;43m.\u001b[39;49m\u001b[43mfit\u001b[49m\u001b[43m(\u001b[49m\n\u001b[1;32m      2\u001b[0m \u001b[43m    \u001b[49m\u001b[43m[\u001b[49m\u001b[43mX_train_gnn\u001b[49m\u001b[43m,\u001b[49m\u001b[43m \u001b[49m\u001b[43mA_train_gnn\u001b[49m\u001b[43m]\u001b[49m\u001b[43m,\u001b[49m\n\u001b[1;32m      3\u001b[0m \u001b[43m    \u001b[49m\u001b[43my_train_onehot\u001b[49m\u001b[43m,\u001b[49m\n\u001b[1;32m      4\u001b[0m \u001b[43m    \u001b[49m\u001b[43mepochs\u001b[49m\u001b[38;5;241;43m=\u001b[39;49m\u001b[38;5;241;43m100\u001b[39;49m\u001b[43m,\u001b[49m\n\u001b[1;32m      5\u001b[0m \u001b[43m    \u001b[49m\u001b[43mbatch_size\u001b[49m\u001b[38;5;241;43m=\u001b[39;49m\u001b[38;5;241;43m32\u001b[39;49m\u001b[43m,\u001b[49m\n\u001b[1;32m      6\u001b[0m \u001b[43m    \u001b[49m\u001b[43mvalidation_data\u001b[49m\u001b[38;5;241;43m=\u001b[39;49m\u001b[43m(\u001b[49m\u001b[43m[\u001b[49m\u001b[43mX_test_gnn\u001b[49m\u001b[43m,\u001b[49m\u001b[43m \u001b[49m\u001b[43mA_test_gnn\u001b[49m\u001b[43m]\u001b[49m\u001b[43m,\u001b[49m\u001b[43m \u001b[49m\u001b[43my_test_onehot\u001b[49m\u001b[43m)\u001b[49m\u001b[43m,\u001b[49m\n\u001b[1;32m      7\u001b[0m \u001b[43m)\u001b[49m\n",
      "File \u001b[0;32m~/venv/lib/python3.10/site-packages/keras/src/utils/traceback_utils.py:122\u001b[0m, in \u001b[0;36mfilter_traceback.<locals>.error_handler\u001b[0;34m(*args, **kwargs)\u001b[0m\n\u001b[1;32m    119\u001b[0m     filtered_tb \u001b[38;5;241m=\u001b[39m _process_traceback_frames(e\u001b[38;5;241m.\u001b[39m__traceback__)\n\u001b[1;32m    120\u001b[0m     \u001b[38;5;66;03m# To get the full stack trace, call:\u001b[39;00m\n\u001b[1;32m    121\u001b[0m     \u001b[38;5;66;03m# `keras.config.disable_traceback_filtering()`\u001b[39;00m\n\u001b[0;32m--> 122\u001b[0m     \u001b[38;5;28;01mraise\u001b[39;00m e\u001b[38;5;241m.\u001b[39mwith_traceback(filtered_tb) \u001b[38;5;28;01mfrom\u001b[39;00m \u001b[38;5;28;01mNone\u001b[39;00m\n\u001b[1;32m    123\u001b[0m \u001b[38;5;28;01mfinally\u001b[39;00m:\n\u001b[1;32m    124\u001b[0m     \u001b[38;5;28;01mdel\u001b[39;00m filtered_tb\n",
      "Cell \u001b[0;32mIn[12], line 55\u001b[0m, in \u001b[0;36mGCN2.call\u001b[0;34m(self, inputs)\u001b[0m\n\u001b[1;32m     53\u001b[0m y \u001b[38;5;241m=\u001b[39m \u001b[38;5;28mgetattr\u001b[39m(\u001b[38;5;28mself\u001b[39m, \u001b[38;5;124mf\u001b[39m\u001b[38;5;124m\"\u001b[39m\u001b[38;5;124mdrop\u001b[39m\u001b[38;5;132;01m{\u001b[39;00mi\u001b[38;5;132;01m}\u001b[39;00m\u001b[38;5;124m\"\u001b[39m)(x)\n\u001b[1;32m     54\u001b[0m y \u001b[38;5;241m=\u001b[39m \u001b[38;5;28mgetattr\u001b[39m(\u001b[38;5;28mself\u001b[39m, \u001b[38;5;124mf\u001b[39m\u001b[38;5;124m\"\u001b[39m\u001b[38;5;124mgcn\u001b[39m\u001b[38;5;132;01m{\u001b[39;00mi\u001b[38;5;132;01m}\u001b[39;00m\u001b[38;5;124m\"\u001b[39m)([y, a])\n\u001b[0;32m---> 55\u001b[0m t \u001b[38;5;241m=\u001b[39m \u001b[38;5;28;43mgetattr\u001b[39;49m\u001b[43m(\u001b[49m\u001b[38;5;28;43mself\u001b[39;49m\u001b[43m,\u001b[49m\u001b[43m \u001b[49m\u001b[38;5;124;43mf\u001b[39;49m\u001b[38;5;124;43m\"\u001b[39;49m\u001b[38;5;124;43mtopkpool\u001b[39;49m\u001b[38;5;132;43;01m{\u001b[39;49;00m\u001b[43mi\u001b[49m\u001b[38;5;132;43;01m}\u001b[39;49;00m\u001b[38;5;124;43m\"\u001b[39;49m\u001b[43m)\u001b[49m\u001b[43m(\u001b[49m\u001b[43m[\u001b[49m\u001b[43my\u001b[49m\u001b[43m,\u001b[49m\u001b[43m \u001b[49m\u001b[43ma\u001b[49m\u001b[43m]\u001b[49m\u001b[43m)\u001b[49m\n\u001b[1;32m     56\u001b[0m \u001b[38;5;28;01mif\u001b[39;00m i \u001b[38;5;241m==\u001b[39m \u001b[38;5;241m0\u001b[39m:\n\u001b[1;32m     57\u001b[0m     x \u001b[38;5;241m=\u001b[39m y\n",
      "File \u001b[0;32m~/venv/lib/python3.10/site-packages/spektral/layers/pooling/topk_pool.py:101\u001b[0m, in \u001b[0;36mTopKPool.call\u001b[0;34m(self, inputs, **kwargs)\u001b[0m\n\u001b[1;32m     99\u001b[0m x, a, i \u001b[38;5;241m=\u001b[39m \u001b[38;5;28mself\u001b[39m\u001b[38;5;241m.\u001b[39mget_inputs(inputs)\n\u001b[1;32m    100\u001b[0m y \u001b[38;5;241m=\u001b[39m K\u001b[38;5;241m.\u001b[39mdot(x, K\u001b[38;5;241m.\u001b[39ml2_normalize(\u001b[38;5;28mself\u001b[39m\u001b[38;5;241m.\u001b[39mkernel))\n\u001b[0;32m--> 101\u001b[0m output \u001b[38;5;241m=\u001b[39m \u001b[38;5;28;43mself\u001b[39;49m\u001b[38;5;241;43m.\u001b[39;49m\u001b[43mpool\u001b[49m\u001b[43m(\u001b[49m\u001b[43mx\u001b[49m\u001b[43m,\u001b[49m\u001b[43m \u001b[49m\u001b[43ma\u001b[49m\u001b[43m,\u001b[49m\u001b[43m \u001b[49m\u001b[43mi\u001b[49m\u001b[43m,\u001b[49m\u001b[43m \u001b[49m\u001b[43my\u001b[49m\u001b[38;5;241;43m=\u001b[39;49m\u001b[43my\u001b[49m\u001b[43m)\u001b[49m\n\u001b[1;32m    102\u001b[0m \u001b[38;5;28;01mif\u001b[39;00m \u001b[38;5;28mself\u001b[39m\u001b[38;5;241m.\u001b[39mreturn_score:\n\u001b[1;32m    103\u001b[0m     output\u001b[38;5;241m.\u001b[39mappend(y)\n",
      "File \u001b[0;32m~/venv/lib/python3.10/site-packages/spektral/layers/pooling/src.py:147\u001b[0m, in \u001b[0;36mSRCPool.pool\u001b[0;34m(self, x, a, i, **kwargs)\u001b[0m\n\u001b[1;32m    145\u001b[0m \u001b[38;5;66;03m# Select\u001b[39;00m\n\u001b[1;32m    146\u001b[0m sel_kwargs \u001b[38;5;241m=\u001b[39m \u001b[38;5;28mself\u001b[39m\u001b[38;5;241m.\u001b[39m_get_kwargs(x, a, i, \u001b[38;5;28mself\u001b[39m\u001b[38;5;241m.\u001b[39msel_signature, kwargs)\n\u001b[0;32m--> 147\u001b[0m s \u001b[38;5;241m=\u001b[39m \u001b[38;5;28;43mself\u001b[39;49m\u001b[38;5;241;43m.\u001b[39;49m\u001b[43mselect\u001b[49m\u001b[43m(\u001b[49m\u001b[43mx\u001b[49m\u001b[43m,\u001b[49m\u001b[43m \u001b[49m\u001b[43ma\u001b[49m\u001b[43m,\u001b[49m\u001b[43m \u001b[49m\u001b[43mi\u001b[49m\u001b[43m,\u001b[49m\u001b[43m \u001b[49m\u001b[38;5;241;43m*\u001b[39;49m\u001b[38;5;241;43m*\u001b[39;49m\u001b[43msel_kwargs\u001b[49m\u001b[43m)\u001b[49m\n\u001b[1;32m    149\u001b[0m \u001b[38;5;66;03m# Reduce\u001b[39;00m\n\u001b[1;32m    150\u001b[0m red_kwargs \u001b[38;5;241m=\u001b[39m \u001b[38;5;28mself\u001b[39m\u001b[38;5;241m.\u001b[39m_get_kwargs(x, a, i, \u001b[38;5;28mself\u001b[39m\u001b[38;5;241m.\u001b[39mred_signature, kwargs)\n",
      "File \u001b[0;32m~/venv/lib/python3.10/site-packages/spektral/layers/pooling/topk_pool.py:110\u001b[0m, in \u001b[0;36mTopKPool.select\u001b[0;34m(self, x, a, i, y)\u001b[0m\n\u001b[1;32m    108\u001b[0m \u001b[38;5;28;01mif\u001b[39;00m i \u001b[38;5;129;01mis\u001b[39;00m \u001b[38;5;28;01mNone\u001b[39;00m:\n\u001b[1;32m    109\u001b[0m     i \u001b[38;5;241m=\u001b[39m tf\u001b[38;5;241m.\u001b[39mzeros(\u001b[38;5;28mself\u001b[39m\u001b[38;5;241m.\u001b[39mn_nodes)\n\u001b[0;32m--> 110\u001b[0m s \u001b[38;5;241m=\u001b[39m \u001b[43msegment_top_k\u001b[49m\u001b[43m(\u001b[49m\u001b[43my\u001b[49m\u001b[43m[\u001b[49m\u001b[43m:\u001b[49m\u001b[43m,\u001b[49m\u001b[43m \u001b[49m\u001b[38;5;241;43m0\u001b[39;49m\u001b[43m]\u001b[49m\u001b[43m,\u001b[49m\u001b[43m \u001b[49m\u001b[43mi\u001b[49m\u001b[43m,\u001b[49m\u001b[43m \u001b[49m\u001b[38;5;28;43mself\u001b[39;49m\u001b[38;5;241;43m.\u001b[39;49m\u001b[43mratio\u001b[49m\u001b[43m)\u001b[49m\n\u001b[1;32m    112\u001b[0m \u001b[38;5;28;01mreturn\u001b[39;00m tf\u001b[38;5;241m.\u001b[39msort(s)\n",
      "File \u001b[0;32m~/venv/lib/python3.10/site-packages/spektral/layers/pooling/topk_pool.py:161\u001b[0m, in \u001b[0;36msegment_top_k\u001b[0;34m(x, i, ratio)\u001b[0m\n\u001b[1;32m    158\u001b[0m index \u001b[38;5;241m=\u001b[39m (index \u001b[38;5;241m-\u001b[39m tf\u001b[38;5;241m.\u001b[39mgather(cumulative_n_nodes, i)) \u001b[38;5;241m+\u001b[39m (i \u001b[38;5;241m*\u001b[39m n_nodes_max)\n\u001b[1;32m    160\u001b[0m dense_x \u001b[38;5;241m=\u001b[39m tf\u001b[38;5;241m.\u001b[39mzeros(batch_size \u001b[38;5;241m*\u001b[39m n_nodes_max, dtype\u001b[38;5;241m=\u001b[39mx\u001b[38;5;241m.\u001b[39mdtype) \u001b[38;5;241m-\u001b[39m \u001b[38;5;241m1e20\u001b[39m\n\u001b[0;32m--> 161\u001b[0m dense_x \u001b[38;5;241m=\u001b[39m \u001b[43mtf\u001b[49m\u001b[38;5;241;43m.\u001b[39;49m\u001b[43mtensor_scatter_nd_update\u001b[49m\u001b[43m(\u001b[49m\u001b[43mdense_x\u001b[49m\u001b[43m,\u001b[49m\u001b[43m \u001b[49m\u001b[43mindex\u001b[49m\u001b[43m[\u001b[49m\u001b[43m:\u001b[49m\u001b[43m,\u001b[49m\u001b[43m \u001b[49m\u001b[38;5;28;43;01mNone\u001b[39;49;00m\u001b[43m]\u001b[49m\u001b[43m,\u001b[49m\u001b[43m \u001b[49m\u001b[43mx\u001b[49m\u001b[43m)\u001b[49m\n\u001b[1;32m    162\u001b[0m dense_x \u001b[38;5;241m=\u001b[39m tf\u001b[38;5;241m.\u001b[39mreshape(dense_x, (batch_size, n_nodes_max))\n\u001b[1;32m    164\u001b[0m perm \u001b[38;5;241m=\u001b[39m tf\u001b[38;5;241m.\u001b[39margsort(dense_x, direction\u001b[38;5;241m=\u001b[39m\u001b[38;5;124m\"\u001b[39m\u001b[38;5;124mDESCENDING\u001b[39m\u001b[38;5;124m\"\u001b[39m)\n",
      "\u001b[0;31mValueError\u001b[0m: Exception encountered when calling TopKPool.call().\n\n\u001b[1mDimensions [1,1) of input[shape=[100]] = [] must match dimensions [1,2) of updates[shape=[?,1]] = [1]: Shapes must be equal rank, but are 0 and 1 for '{{node gcn2_1_1/top_k_pool_1_1/TensorScatterUpdate}} = TensorScatterUpdate[T=DT_FLOAT, Tindices=DT_INT32](gcn2_1_1/top_k_pool_1_1/sub_1, gcn2_1_1/top_k_pool_1_1/strided_slice_5, gcn2_1_1/top_k_pool_1_1/strided_slice_1)' with input shapes: [100], [100,1], [?,1].\u001b[0m\n\nArguments received by TopKPool.call():\n  • inputs=['tf.Tensor(shape=(None, 100, 16), dtype=float32)', 'tf.Tensor(shape=(None, 100, 100), dtype=int64)']\n  • kwargs=<class 'inspect._empty'>"
     ]
    }
   ],
   "source": [
    "model.fit(\n",
    "    [X_train_gnn, A_train_gnn],\n",
    "    y_train_onehot,\n",
    "    epochs=100,\n",
    "    batch_size=32,\n",
    "    validation_data=([X_test_gnn, A_test_gnn], y_test_onehot),\n",
    ")"
   ]
  },
  {
   "cell_type": "code",
   "execution_count": 34,
   "metadata": {},
   "outputs": [
    {
     "name": "stdout",
     "output_type": "stream",
     "text": [
      "X_train_gnn has null values: False\n",
      "A_train_gnn has null values: False\n"
     ]
    }
   ],
   "source": [
    "import numpy as np\n",
    "\n",
    "# Check for null values in X_train_gnn\n",
    "X_train_gnn_has_null = np.isnan(X_train_gnn).any()\n",
    "print(f\"X_train_gnn has null values: {X_train_gnn_has_null}\")\n",
    "\n",
    "# Check for null values in A_train_gnn\n",
    "A_train_gnn_has_null = np.isnan(A_train_gnn).any()\n",
    "print(f\"A_train_gnn has null values: {A_train_gnn_has_null}\")"
   ]
  },
  {
   "cell_type": "code",
   "execution_count": 70,
   "metadata": {},
   "outputs": [
    {
     "ename": "ValueError",
     "evalue": "Exception encountered when calling GCNConv.call().\n\n\u001b[1mCould not automatically infer the output shape / dtype of 'gcn_conv_18' (of type GCNConv). Either the `GCNConv.call()` method is incorrect, or you need to implement the `GCNConv.compute_output_spec() / compute_output_shape()` method. Error encountered:\n\nTried to convert 'y' to a tensor and failed. Error: None values not supported.\u001b[0m\n\nArguments received by GCNConv.call():\n  • args=(['<KerasTensor shape=(None, 100, 5), dtype=float32, sparse=False, name=keras_tensor_2>', '<KerasTensor shape=(None, 100, 100), dtype=float32, sparse=False, name=A_in>'],)\n  • kwargs={'mask': ['None', 'None']}",
     "output_type": "error",
     "traceback": [
      "\u001b[0;31m---------------------------------------------------------------------------\u001b[0m",
      "\u001b[0;31mValueError\u001b[0m                                Traceback (most recent call last)",
      "Cell \u001b[0;32mIn[70], line 25\u001b[0m\n\u001b[1;32m     22\u001b[0m     \u001b[38;5;28;01mreturn\u001b[39;00m model\n\u001b[1;32m     24\u001b[0m \u001b[38;5;66;03m# Create the model\u001b[39;00m\n\u001b[0;32m---> 25\u001b[0m model \u001b[38;5;241m=\u001b[39m \u001b[43mcreate_gcn_model\u001b[49m\u001b[43m(\u001b[49m\u001b[43mn_labels\u001b[49m\u001b[38;5;241;43m=\u001b[39;49m\u001b[38;5;241;43m3\u001b[39;49m\u001b[43m,\u001b[49m\u001b[43m \u001b[49m\u001b[43mchannels\u001b[49m\u001b[38;5;241;43m=\u001b[39;49m\u001b[38;5;241;43m16\u001b[39;49m\u001b[43m)\u001b[49m\n\u001b[1;32m     27\u001b[0m \u001b[38;5;66;03m# Compile the model\u001b[39;00m\n\u001b[1;32m     28\u001b[0m model\u001b[38;5;241m.\u001b[39mcompile(optimizer\u001b[38;5;241m=\u001b[39mAdam(learning_rate\u001b[38;5;241m=\u001b[39m\u001b[38;5;241m0.01\u001b[39m), loss\u001b[38;5;241m=\u001b[39mCategoricalCrossentropy(), metrics\u001b[38;5;241m=\u001b[39m[CategoricalAccuracy()])\n",
      "Cell \u001b[0;32mIn[70], line 17\u001b[0m, in \u001b[0;36mcreate_gcn_model\u001b[0;34m(n_labels, channels, activation, output_activation, use_bias, dropout_rate, l2_reg)\u001b[0m\n\u001b[1;32m     14\u001b[0m A_in \u001b[38;5;241m=\u001b[39m Input(shape\u001b[38;5;241m=\u001b[39m(\u001b[38;5;241m100\u001b[39m, \u001b[38;5;241m100\u001b[39m), name\u001b[38;5;241m=\u001b[39m\u001b[38;5;124m'\u001b[39m\u001b[38;5;124mA_in\u001b[39m\u001b[38;5;124m'\u001b[39m)\n\u001b[1;32m     16\u001b[0m dropout \u001b[38;5;241m=\u001b[39m Dropout(dropout_rate)(X_in)\n\u001b[0;32m---> 17\u001b[0m gcn \u001b[38;5;241m=\u001b[39m \u001b[43mgcn_conv\u001b[49m\u001b[38;5;241;43m.\u001b[39;49m\u001b[43mGCNConv\u001b[49m\u001b[43m(\u001b[49m\u001b[43mchannels\u001b[49m\u001b[43m,\u001b[49m\u001b[43m \u001b[49m\u001b[43mactivation\u001b[49m\u001b[38;5;241;43m=\u001b[39;49m\u001b[43mactivation\u001b[49m\u001b[43m,\u001b[49m\u001b[43m \u001b[49m\u001b[43muse_bias\u001b[49m\u001b[38;5;241;43m=\u001b[39;49m\u001b[43muse_bias\u001b[49m\u001b[43m,\u001b[49m\u001b[43m \u001b[49m\u001b[43mkernel_regularizer\u001b[49m\u001b[38;5;241;43m=\u001b[39;49m\u001b[43mreg\u001b[49m\u001b[43m)\u001b[49m\u001b[43m(\u001b[49m\u001b[43m[\u001b[49m\u001b[43mdropout\u001b[49m\u001b[43m,\u001b[49m\u001b[43m \u001b[49m\u001b[43mA_in\u001b[49m\u001b[43m]\u001b[49m\u001b[43m)\u001b[49m\n\u001b[1;32m     18\u001b[0m dropout \u001b[38;5;241m=\u001b[39m Dropout(dropout_rate)(gcn)\n\u001b[1;32m     19\u001b[0m output \u001b[38;5;241m=\u001b[39m Dense(n_labels, activation\u001b[38;5;241m=\u001b[39moutput_activation)(dropout)\n",
      "File \u001b[0;32m~/venv/lib/python3.10/site-packages/keras/src/utils/traceback_utils.py:122\u001b[0m, in \u001b[0;36mfilter_traceback.<locals>.error_handler\u001b[0;34m(*args, **kwargs)\u001b[0m\n\u001b[1;32m    119\u001b[0m     filtered_tb \u001b[38;5;241m=\u001b[39m _process_traceback_frames(e\u001b[38;5;241m.\u001b[39m__traceback__)\n\u001b[1;32m    120\u001b[0m     \u001b[38;5;66;03m# To get the full stack trace, call:\u001b[39;00m\n\u001b[1;32m    121\u001b[0m     \u001b[38;5;66;03m# `keras.config.disable_traceback_filtering()`\u001b[39;00m\n\u001b[0;32m--> 122\u001b[0m     \u001b[38;5;28;01mraise\u001b[39;00m e\u001b[38;5;241m.\u001b[39mwith_traceback(filtered_tb) \u001b[38;5;28;01mfrom\u001b[39;00m \u001b[38;5;28;01mNone\u001b[39;00m\n\u001b[1;32m    123\u001b[0m \u001b[38;5;28;01mfinally\u001b[39;00m:\n\u001b[1;32m    124\u001b[0m     \u001b[38;5;28;01mdel\u001b[39;00m filtered_tb\n",
      "File \u001b[0;32m~/venv/lib/python3.10/site-packages/spektral/layers/convolutional/conv.py:74\u001b[0m, in \u001b[0;36mcheck_dtypes_decorator.<locals>._inner_check_dtypes\u001b[0;34m(inputs, **kwargs)\u001b[0m\n\u001b[1;32m     71\u001b[0m \u001b[38;5;129m@wraps\u001b[39m(call)\n\u001b[1;32m     72\u001b[0m \u001b[38;5;28;01mdef\u001b[39;00m \u001b[38;5;21m_inner_check_dtypes\u001b[39m(inputs, \u001b[38;5;241m*\u001b[39m\u001b[38;5;241m*\u001b[39mkwargs):\n\u001b[1;32m     73\u001b[0m     inputs \u001b[38;5;241m=\u001b[39m check_dtypes(inputs)\n\u001b[0;32m---> 74\u001b[0m     \u001b[38;5;28;01mreturn\u001b[39;00m \u001b[43mcall\u001b[49m\u001b[43m(\u001b[49m\u001b[43minputs\u001b[49m\u001b[43m,\u001b[49m\u001b[43m \u001b[49m\u001b[38;5;241;43m*\u001b[39;49m\u001b[38;5;241;43m*\u001b[39;49m\u001b[43mkwargs\u001b[49m\u001b[43m)\u001b[49m\n",
      "File \u001b[0;32m~/venv/lib/python3.10/site-packages/spektral/layers/convolutional/gcn_conv.py:106\u001b[0m, in \u001b[0;36mGCNConv.call\u001b[0;34m(self, inputs, mask)\u001b[0m\n\u001b[1;32m    104\u001b[0m     output \u001b[38;5;241m=\u001b[39m K\u001b[38;5;241m.\u001b[39mbias_add(output, \u001b[38;5;28mself\u001b[39m\u001b[38;5;241m.\u001b[39mbias)\n\u001b[1;32m    105\u001b[0m \u001b[38;5;28;01mif\u001b[39;00m mask \u001b[38;5;129;01mis\u001b[39;00m \u001b[38;5;129;01mnot\u001b[39;00m \u001b[38;5;28;01mNone\u001b[39;00m:\n\u001b[0;32m--> 106\u001b[0m     output \u001b[38;5;241m*\u001b[39m\u001b[38;5;241m=\u001b[39m mask[\u001b[38;5;241m0\u001b[39m]\n\u001b[1;32m    107\u001b[0m output \u001b[38;5;241m=\u001b[39m \u001b[38;5;28mself\u001b[39m\u001b[38;5;241m.\u001b[39mactivation(output)\n\u001b[1;32m    109\u001b[0m \u001b[38;5;28;01mreturn\u001b[39;00m output\n",
      "\u001b[0;31mValueError\u001b[0m: Exception encountered when calling GCNConv.call().\n\n\u001b[1mCould not automatically infer the output shape / dtype of 'gcn_conv_18' (of type GCNConv). Either the `GCNConv.call()` method is incorrect, or you need to implement the `GCNConv.compute_output_spec() / compute_output_shape()` method. Error encountered:\n\nTried to convert 'y' to a tensor and failed. Error: None values not supported.\u001b[0m\n\nArguments received by GCNConv.call():\n  • args=(['<KerasTensor shape=(None, 100, 5), dtype=float32, sparse=False, name=keras_tensor_2>', '<KerasTensor shape=(None, 100, 100), dtype=float32, sparse=False, name=A_in>'],)\n  • kwargs={'mask': ['None', 'None']}"
     ]
    }
   ],
   "source": [
    "from tensorflow.keras.layers import Input, Dropout, Dense\n",
    "from tensorflow.keras.models import Model\n",
    "from tensorflow.keras.optimizers import Adam\n",
    "from tensorflow.keras.losses import CategoricalCrossentropy\n",
    "from tensorflow.keras.metrics import CategoricalAccuracy\n",
    "import tensorflow as tf\n",
    "from spektral.layers import gcn_conv\n",
    "\n",
    "\n",
    "# Define the GCN model\n",
    "def create_gcn_model(\n",
    "    n_labels,\n",
    "    channels=16,\n",
    "    activation=\"relu\",\n",
    "    output_activation=\"softmax\",\n",
    "    use_bias=False,\n",
    "    dropout_rate=0.5,\n",
    "    l2_reg=2.5e-4,\n",
    "):\n",
    "    reg = tf.keras.regularizers.l2(l2_reg)\n",
    "\n",
    "    X_in = Input(shape=(100, 5), name=\"X_in\")\n",
    "    A_in = Input(shape=(100, 100), name=\"A_in\")\n",
    "\n",
    "    dropout = Dropout(dropout_rate)(X_in)\n",
    "    gcn = gcn_conv.GCNConv(\n",
    "        channels, activation=activation, use_bias=use_bias, kernel_regularizer=reg\n",
    "    )([dropout, A_in])\n",
    "    dropout = Dropout(dropout_rate)(gcn)\n",
    "    output = Dense(n_labels, activation=output_activation)(dropout)\n",
    "\n",
    "    model = Model(inputs=[X_in, A_in], outputs=output)\n",
    "    return model\n",
    "\n",
    "\n",
    "# Create the model\n",
    "model = create_gcn_model(n_labels=3, channels=16)\n",
    "\n",
    "# Compile the model\n",
    "model.compile(\n",
    "    optimizer=Adam(learning_rate=0.01),\n",
    "    loss=CategoricalCrossentropy(),\n",
    "    metrics=[CategoricalAccuracy()],\n",
    ")\n",
    "\n",
    "# Build the model\n",
    "model.build(\n",
    "    input_shape=[\n",
    "        (X_train_gnn.shape[1], X_train_gnn.shape[2]),\n",
    "        (X_train_gnn.shape[1], X_train_gnn.shape[1]),\n",
    "    ]\n",
    ")\n",
    "\n",
    "# Print the model summary\n",
    "model.summary()"
   ]
  },
  {
   "cell_type": "code",
   "execution_count": null,
   "metadata": {},
   "outputs": [],
   "source": [
    "# test\n",
    "import spektral\n",
    "\n",
    "pool = spektral.layers.TopKPool(0.5)\n",
    "input_shape = [(10, 16), (10, 10)]\n",
    "pool.build(input_shape)"
   ]
  },
  {
   "cell_type": "code",
   "execution_count": null,
   "metadata": {},
   "outputs": [],
   "source": [
    "pool.n_nodes, pool._n_nodes"
   ]
  }
 ],
 "metadata": {
  "kernelspec": {
   "display_name": "venv",
   "language": "python",
   "name": "python3"
  },
  "language_info": {
   "codemirror_mode": {
    "name": "ipython",
    "version": 3
   },
   "file_extension": ".py",
   "mimetype": "text/x-python",
   "name": "python",
   "nbconvert_exporter": "python",
   "pygments_lexer": "ipython3",
   "version": "3.10.12"
  }
 },
 "nbformat": 4,
 "nbformat_minor": 2
}
